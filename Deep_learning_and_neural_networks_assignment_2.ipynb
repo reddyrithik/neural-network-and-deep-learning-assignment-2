{
  "nbformat": 4,
  "nbformat_minor": 0,
  "metadata": {
    "colab": {
      "provenance": []
    },
    "kernelspec": {
      "name": "python3",
      "display_name": "Python 3"
    },
    "language_info": {
      "name": "python"
    }
  },
  "cells": [
    {
      "cell_type": "markdown",
      "source": [
        "1)Write a program that takes two strings from the user: first_name, last_name. Pass these variables to fullname function that should return the (full name)."
      ],
      "metadata": {
        "id": "mhk9LOotxxgU"
      }
    },
    {
      "cell_type": "code",
      "source": [
        "def name(string1,string2):\n",
        "  print(string1+\" \"+string2)\n",
        "\n",
        "first_name=input(\"enter the first name : \")\n",
        "last_name=input(\"enter the second name : \")\n",
        "name(first_name,last_name)"
      ],
      "metadata": {
        "colab": {
          "base_uri": "https://localhost:8080/"
        },
        "id": "NmxOpc7PxMaX",
        "outputId": "1b96ca3e-3941-49a8-9532-ab0ce599384a"
      },
      "execution_count": 13,
      "outputs": [
        {
          "output_type": "stream",
          "name": "stdout",
          "text": [
            "enter the first name : Rithik\n",
            "enter the second name : Reddy\n",
            "Rithik Reddy\n"
          ]
        }
      ]
    },
    {
      "cell_type": "markdown",
      "source": [
        "Write function named “string_alternative” that returns every other char in the full_name string"
      ],
      "metadata": {
        "id": "E75OHziGyA68"
      }
    },
    {
      "cell_type": "code",
      "source": [
        "def string_alternative(my_string):\n",
        "  result=my_string[::2]\n",
        "  print(result)\n",
        "def main():\n",
        "  my_string=input(\"enter the string : \")\n",
        "  string_alternative(my_string)\n",
        "if __name__==\"__main__\":\n",
        "  main()"
      ],
      "metadata": {
        "colab": {
          "base_uri": "https://localhost:8080/"
        },
        "id": "4RNc9-tcxgYx",
        "outputId": "b449370a-110a-4ff3-9bdd-447d627dd32f"
      },
      "execution_count": 14,
      "outputs": [
        {
          "output_type": "stream",
          "name": "stdout",
          "text": [
            "enter the string : Good evening\n",
            "Go vnn\n"
          ]
        }
      ]
    },
    {
      "cell_type": "markdown",
      "source": [
        "2)Write a python program to find the wordcount in a file (input.txt) for each line and then print the output.\n",
        "o Finally store the output in output.txt file."
      ],
      "metadata": {
        "id": "oiSxdxUZyK8j"
      }
    },
    {
      "cell_type": "code",
      "execution_count": 17,
      "metadata": {
        "colab": {
          "base_uri": "https://localhost:8080/"
        },
        "id": "TpUsN-jtqFu5",
        "outputId": "5ff9c454-38d6-4035-eef3-16eb758db535"
      },
      "outputs": [
        {
          "output_type": "stream",
          "name": "stdout",
          "text": [
            "python 1\n",
            "course 2\n",
            "deep 1\n",
            "learning 1\n"
          ]
        }
      ],
      "source": [
        "\n",
        "text = open(r\"/content/input file.txt\", \"r\")\n",
        "\n",
        "\n",
        "count = {}\n",
        "\n",
        "\n",
        "\n",
        "for i in text:\n",
        "\n",
        "\n",
        "\n",
        "    x = i.strip().split()\n",
        "\n",
        "\n",
        "\n",
        "    for j in x:\n",
        "\n",
        "        if j in count:\n",
        "\n",
        "            count[j] += 1\n",
        "\n",
        "\n",
        "\n",
        "        else:\n",
        "\n",
        "            count[j] = 1\n",
        "\n",
        "\n",
        "\n",
        "\n",
        "\n",
        "text.close()\n",
        "\n",
        "\n",
        "\n",
        "op=open(\"output.txt\", \"w\")\n",
        "\n",
        "for i, j in count.items():\n",
        "   print(i, j)\n",
        "   op.write(i + \" : \" + str(j) + \"\\n\")\n",
        "\n",
        "\n",
        "\n",
        "op.close()"
      ]
    },
    {
      "cell_type": "markdown",
      "source": [
        "3)Write a program, which reads heights (inches.) of customers into a list and convert these heights to centimeters in a separate list using:"
      ],
      "metadata": {
        "id": "FEvOUi14yUWE"
      }
    },
    {
      "cell_type": "code",
      "source": [
        "lst=[]\n",
        "n=int(input(\"enter number of elements : \"))\n",
        "for i in range(0,n):\n",
        "  ele=int(input())\n",
        "  lst.append(ele)\n",
        "print(lst)\n",
        "l2=[]\n",
        "for j in lst:\n",
        "  j=j/2.54\n",
        "  k=round(j,2)\n",
        "  l2.append(k)\n",
        "print(l2)"
      ],
      "metadata": {
        "colab": {
          "base_uri": "https://localhost:8080/"
        },
        "id": "TpyqANtHqpZA",
        "outputId": "6914a715-f9ec-45bb-d354-e1ded5c1b0e4"
      },
      "execution_count": 15,
      "outputs": [
        {
          "output_type": "stream",
          "name": "stdout",
          "text": [
            "enter number of elements : 4\n",
            "162\n",
            "156\n",
            "184\n",
            "178\n",
            "[162, 156, 184, 178]\n",
            "[63.78, 61.42, 72.44, 70.08]\n"
          ]
        }
      ]
    }
  ]
}